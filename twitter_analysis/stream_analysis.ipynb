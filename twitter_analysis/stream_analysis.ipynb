{
 "cells": [
  {
   "cell_type": "markdown",
   "metadata": {},
   "source": [
    "## HW2 - Stream Analysis\n",
    "This notebook looks at the data collected using the hw2_stream.py file. The .py file creates a connection between the Twitter API and a mongodb, extarcting key field from the Streaming API to conduct analysis upon. In the stream, roughly 28k tweets were collected pertaining to leaders from around the world, namely: 'Trump','Xi Jinping', 'Maduro','Kim Jong Un','Elizabeth Warren', and 'Theresa May'. Let's look at the data."
   ]
  },
  {
   "cell_type": "code",
   "execution_count": 1,
   "metadata": {},
   "outputs": [
    {
     "name": "stdout",
     "output_type": "stream",
     "text": [
      "Total Record for the collection: 28243\n"
     ]
    }
   ],
   "source": [
    "# connecting to local mongoclient\n",
    "from pymongo import MongoClient\n",
    "client = MongoClient('mongodb://localhost/27017')\n",
    "db = client.twitterdb_final\n",
    "tweets = db.twitter_stream\n",
    "print('Total Record for the collection: ' + str(tweets.estimated_document_count()))"
   ]
  },
  {
   "cell_type": "markdown",
   "metadata": {},
   "source": [
    "Now the mongodb data can be loaded into pandas quickly thanks to the Python God and GOAT, Wes McKinney and the Pandas Team."
   ]
  },
  {
   "cell_type": "code",
   "execution_count": 2,
   "metadata": {},
   "outputs": [],
   "source": [
    "# load data into dataframe\n",
    "import pandas as pd\n",
    "db = client.twitterdb_final\n",
    "collection = db.twitter_stream\n",
    "data = pd.DataFrame(list(collection.find()))"
   ]
  },
  {
   "cell_type": "code",
   "execution_count": 3,
   "metadata": {},
   "outputs": [
    {
     "data": {
      "text/html": [
       "<div>\n",
       "<style scoped>\n",
       "    .dataframe tbody tr th:only-of-type {\n",
       "        vertical-align: middle;\n",
       "    }\n",
       "\n",
       "    .dataframe tbody tr th {\n",
       "        vertical-align: top;\n",
       "    }\n",
       "\n",
       "    .dataframe thead th {\n",
       "        text-align: right;\n",
       "    }\n",
       "</style>\n",
       "<table border=\"1\" class=\"dataframe\">\n",
       "  <thead>\n",
       "    <tr style=\"text-align: right;\">\n",
       "      <th></th>\n",
       "      <th>_id</th>\n",
       "      <th>created</th>\n",
       "      <th>followers</th>\n",
       "      <th>hashtags</th>\n",
       "      <th>id</th>\n",
       "      <th>language</th>\n",
       "      <th>text</th>\n",
       "      <th>username</th>\n",
       "    </tr>\n",
       "  </thead>\n",
       "  <tbody>\n",
       "    <tr>\n",
       "      <th>0</th>\n",
       "      <td>5cb4a408f970c156282d477c</td>\n",
       "      <td>2019-04-15 15:32:26</td>\n",
       "      <td>241</td>\n",
       "      <td>[]</td>\n",
       "      <td>1117812934846091264</td>\n",
       "      <td>es</td>\n",
       "      <td>RT @EmmaZeinep: Mippcivzla: RT SMoncada_VEN: ¿...</td>\n",
       "      <td>AliCrack25</td>\n",
       "    </tr>\n",
       "    <tr>\n",
       "      <th>1</th>\n",
       "      <td>5cb4a408f970c156282d477e</td>\n",
       "      <td>2019-04-15 15:32:26</td>\n",
       "      <td>56</td>\n",
       "      <td>[]</td>\n",
       "      <td>1117812934644727809</td>\n",
       "      <td>en</td>\n",
       "      <td>My confidence in the government under Trump an...</td>\n",
       "      <td>louisiana2times</td>\n",
       "    </tr>\n",
       "    <tr>\n",
       "      <th>2</th>\n",
       "      <td>5cb4a408f970c156282d4780</td>\n",
       "      <td>2019-04-15 15:32:26</td>\n",
       "      <td>3334</td>\n",
       "      <td>[]</td>\n",
       "      <td>1117812935093624834</td>\n",
       "      <td>en</td>\n",
       "      <td>RT @nathanTbernard: Trump and @benshapiro cont...</td>\n",
       "      <td>RicanInBoston2</td>\n",
       "    </tr>\n",
       "    <tr>\n",
       "      <th>3</th>\n",
       "      <td>5cb4a408f970c156282d4782</td>\n",
       "      <td>2019-04-15 15:32:26</td>\n",
       "      <td>12006</td>\n",
       "      <td>[]</td>\n",
       "      <td>1117812935252955136</td>\n",
       "      <td>en</td>\n",
       "      <td>RT @RISINGforum: Still warm off the press: wha...</td>\n",
       "      <td>CSS_Zurich</td>\n",
       "    </tr>\n",
       "    <tr>\n",
       "      <th>4</th>\n",
       "      <td>5cb4a408f970c156282d4784</td>\n",
       "      <td>2019-04-15 15:32:26</td>\n",
       "      <td>244</td>\n",
       "      <td>[]</td>\n",
       "      <td>1117812935441756164</td>\n",
       "      <td>en</td>\n",
       "      <td>RT @Mimirocah1: Reminder from Stone indictment...</td>\n",
       "      <td>ishkabibble54</td>\n",
       "    </tr>\n",
       "  </tbody>\n",
       "</table>\n",
       "</div>"
      ],
      "text/plain": [
       "                        _id             created  followers hashtags  \\\n",
       "0  5cb4a408f970c156282d477c 2019-04-15 15:32:26        241       []   \n",
       "1  5cb4a408f970c156282d477e 2019-04-15 15:32:26         56       []   \n",
       "2  5cb4a408f970c156282d4780 2019-04-15 15:32:26       3334       []   \n",
       "3  5cb4a408f970c156282d4782 2019-04-15 15:32:26      12006       []   \n",
       "4  5cb4a408f970c156282d4784 2019-04-15 15:32:26        244       []   \n",
       "\n",
       "                    id language  \\\n",
       "0  1117812934846091264       es   \n",
       "1  1117812934644727809       en   \n",
       "2  1117812935093624834       en   \n",
       "3  1117812935252955136       en   \n",
       "4  1117812935441756164       en   \n",
       "\n",
       "                                                text         username  \n",
       "0  RT @EmmaZeinep: Mippcivzla: RT SMoncada_VEN: ¿...       AliCrack25  \n",
       "1  My confidence in the government under Trump an...  louisiana2times  \n",
       "2  RT @nathanTbernard: Trump and @benshapiro cont...   RicanInBoston2  \n",
       "3  RT @RISINGforum: Still warm off the press: wha...       CSS_Zurich  \n",
       "4  RT @Mimirocah1: Reminder from Stone indictment...    ishkabibble54  "
      ]
     },
     "execution_count": 3,
     "metadata": {},
     "output_type": "execute_result"
    }
   ],
   "source": [
    "data.head(5)"
   ]
  },
  {
   "cell_type": "markdown",
   "metadata": {},
   "source": [
    "Let's quickly add a unique ID field to ensure we can join this data frame with the sentiment analysis dataframe below"
   ]
  },
  {
   "cell_type": "code",
   "execution_count": 4,
   "metadata": {},
   "outputs": [],
   "source": [
    "data.insert(0, 'New_ID', range(880, 880 + len(data)))"
   ]
  },
  {
   "cell_type": "markdown",
   "metadata": {},
   "source": [
    "Vader Sentiment uses fast and well written code to do column-wise sentiment analysis on a pandas dataframe."
   ]
  },
  {
   "cell_type": "code",
   "execution_count": 5,
   "metadata": {},
   "outputs": [],
   "source": [
    "# work description field\n",
    "from vaderSentiment.vaderSentiment import SentimentIntensityAnalyzer"
   ]
  },
  {
   "cell_type": "markdown",
   "metadata": {},
   "source": [
    "Using sent package to iterate over the text of tweets, getting scores for later analysis."
   ]
  },
  {
   "cell_type": "code",
   "execution_count": 6,
   "metadata": {},
   "outputs": [],
   "source": [
    "analyser = SentimentIntensityAnalyzer()\n",
    "\n",
    "results = []\n",
    "\n",
    "for line in data['text']:\n",
    "    score = analyser.polarity_scores(line)\n",
    "    score['description'] = line\n",
    "    results.append(score)"
   ]
  },
  {
   "cell_type": "markdown",
   "metadata": {},
   "source": [
    "Load the data into pandas dataframe."
   ]
  },
  {
   "cell_type": "code",
   "execution_count": 7,
   "metadata": {},
   "outputs": [],
   "source": [
    "df_scores = pd.DataFrame.from_records(results)"
   ]
  },
  {
   "cell_type": "code",
   "execution_count": 8,
   "metadata": {},
   "outputs": [],
   "source": [
    "df_scores = df_scores[['description','compound','neg','neu','pos']]"
   ]
  },
  {
   "cell_type": "markdown",
   "metadata": {},
   "source": [
    "Create a unique ID to join the scores back with original dataframe"
   ]
  },
  {
   "cell_type": "code",
   "execution_count": 9,
   "metadata": {},
   "outputs": [],
   "source": [
    "df_scores.insert(0, 'New_ID', range(880, 880 + len(df_scores)))"
   ]
  },
  {
   "cell_type": "markdown",
   "metadata": {},
   "source": [
    "We can now append a score based on the compund sentiment score, using -.2 and .2 to denote positive and negative tweets and the rest are labeled as neutral."
   ]
  },
  {
   "cell_type": "code",
   "execution_count": 10,
   "metadata": {},
   "outputs": [
    {
     "data": {
      "text/html": [
       "<div>\n",
       "<style scoped>\n",
       "    .dataframe tbody tr th:only-of-type {\n",
       "        vertical-align: middle;\n",
       "    }\n",
       "\n",
       "    .dataframe tbody tr th {\n",
       "        vertical-align: top;\n",
       "    }\n",
       "\n",
       "    .dataframe thead th {\n",
       "        text-align: right;\n",
       "    }\n",
       "</style>\n",
       "<table border=\"1\" class=\"dataframe\">\n",
       "  <thead>\n",
       "    <tr style=\"text-align: right;\">\n",
       "      <th></th>\n",
       "      <th>New_ID</th>\n",
       "      <th>description</th>\n",
       "      <th>compound</th>\n",
       "      <th>neg</th>\n",
       "      <th>neu</th>\n",
       "      <th>pos</th>\n",
       "      <th>label</th>\n",
       "    </tr>\n",
       "  </thead>\n",
       "  <tbody>\n",
       "    <tr>\n",
       "      <th>0</th>\n",
       "      <td>880</td>\n",
       "      <td>RT @EmmaZeinep: Mippcivzla: RT SMoncada_VEN: ¿...</td>\n",
       "      <td>0.0000</td>\n",
       "      <td>0.000</td>\n",
       "      <td>1.000</td>\n",
       "      <td>0.000</td>\n",
       "      <td>0</td>\n",
       "    </tr>\n",
       "    <tr>\n",
       "      <th>1</th>\n",
       "      <td>881</td>\n",
       "      <td>My confidence in the government under Trump an...</td>\n",
       "      <td>-0.3473</td>\n",
       "      <td>0.205</td>\n",
       "      <td>0.678</td>\n",
       "      <td>0.118</td>\n",
       "      <td>-1</td>\n",
       "    </tr>\n",
       "    <tr>\n",
       "      <th>2</th>\n",
       "      <td>882</td>\n",
       "      <td>RT @nathanTbernard: Trump and @benshapiro cont...</td>\n",
       "      <td>0.1027</td>\n",
       "      <td>0.191</td>\n",
       "      <td>0.604</td>\n",
       "      <td>0.205</td>\n",
       "      <td>0</td>\n",
       "    </tr>\n",
       "    <tr>\n",
       "      <th>3</th>\n",
       "      <td>883</td>\n",
       "      <td>RT @RISINGforum: Still warm off the press: wha...</td>\n",
       "      <td>0.2263</td>\n",
       "      <td>0.000</td>\n",
       "      <td>0.913</td>\n",
       "      <td>0.087</td>\n",
       "      <td>1</td>\n",
       "    </tr>\n",
       "    <tr>\n",
       "      <th>4</th>\n",
       "      <td>884</td>\n",
       "      <td>RT @Mimirocah1: Reminder from Stone indictment...</td>\n",
       "      <td>-0.4939</td>\n",
       "      <td>0.144</td>\n",
       "      <td>0.856</td>\n",
       "      <td>0.000</td>\n",
       "      <td>-1</td>\n",
       "    </tr>\n",
       "  </tbody>\n",
       "</table>\n",
       "</div>"
      ],
      "text/plain": [
       "   New_ID                                        description  compound    neg  \\\n",
       "0     880  RT @EmmaZeinep: Mippcivzla: RT SMoncada_VEN: ¿...    0.0000  0.000   \n",
       "1     881  My confidence in the government under Trump an...   -0.3473  0.205   \n",
       "2     882  RT @nathanTbernard: Trump and @benshapiro cont...    0.1027  0.191   \n",
       "3     883  RT @RISINGforum: Still warm off the press: wha...    0.2263  0.000   \n",
       "4     884  RT @Mimirocah1: Reminder from Stone indictment...   -0.4939  0.144   \n",
       "\n",
       "     neu    pos  label  \n",
       "0  1.000  0.000      0  \n",
       "1  0.678  0.118     -1  \n",
       "2  0.604  0.205      0  \n",
       "3  0.913  0.087      1  \n",
       "4  0.856  0.000     -1  "
      ]
     },
     "execution_count": 10,
     "metadata": {},
     "output_type": "execute_result"
    }
   ],
   "source": [
    "df_scores['label'] = 0\n",
    "df_scores.loc[df_scores['compound'] > 0.2, 'label'] = 1\n",
    "df_scores.loc[df_scores['compound'] < -0.2, 'label'] = -1\n",
    "df_scores.head()"
   ]
  },
  {
   "cell_type": "code",
   "execution_count": 11,
   "metadata": {},
   "outputs": [],
   "source": [
    "df2 = pd.merge(data, df_scores, on='New_ID')"
   ]
  },
  {
   "cell_type": "code",
   "execution_count": 12,
   "metadata": {},
   "outputs": [
    {
     "data": {
      "text/html": [
       "<div>\n",
       "<style scoped>\n",
       "    .dataframe tbody tr th:only-of-type {\n",
       "        vertical-align: middle;\n",
       "    }\n",
       "\n",
       "    .dataframe tbody tr th {\n",
       "        vertical-align: top;\n",
       "    }\n",
       "\n",
       "    .dataframe thead th {\n",
       "        text-align: right;\n",
       "    }\n",
       "</style>\n",
       "<table border=\"1\" class=\"dataframe\">\n",
       "  <thead>\n",
       "    <tr style=\"text-align: right;\">\n",
       "      <th></th>\n",
       "      <th>New_ID</th>\n",
       "      <th>_id</th>\n",
       "      <th>created</th>\n",
       "      <th>followers</th>\n",
       "      <th>hashtags</th>\n",
       "      <th>id</th>\n",
       "      <th>language</th>\n",
       "      <th>text</th>\n",
       "      <th>username</th>\n",
       "      <th>description</th>\n",
       "      <th>compound</th>\n",
       "      <th>neg</th>\n",
       "      <th>neu</th>\n",
       "      <th>pos</th>\n",
       "      <th>label</th>\n",
       "    </tr>\n",
       "  </thead>\n",
       "  <tbody>\n",
       "    <tr>\n",
       "      <th>0</th>\n",
       "      <td>880</td>\n",
       "      <td>5cb4a408f970c156282d477c</td>\n",
       "      <td>2019-04-15 15:32:26</td>\n",
       "      <td>241</td>\n",
       "      <td>[]</td>\n",
       "      <td>1117812934846091264</td>\n",
       "      <td>es</td>\n",
       "      <td>RT @EmmaZeinep: Mippcivzla: RT SMoncada_VEN: ¿...</td>\n",
       "      <td>AliCrack25</td>\n",
       "      <td>RT @EmmaZeinep: Mippcivzla: RT SMoncada_VEN: ¿...</td>\n",
       "      <td>0.0000</td>\n",
       "      <td>0.000</td>\n",
       "      <td>1.000</td>\n",
       "      <td>0.000</td>\n",
       "      <td>0</td>\n",
       "    </tr>\n",
       "    <tr>\n",
       "      <th>1</th>\n",
       "      <td>881</td>\n",
       "      <td>5cb4a408f970c156282d477e</td>\n",
       "      <td>2019-04-15 15:32:26</td>\n",
       "      <td>56</td>\n",
       "      <td>[]</td>\n",
       "      <td>1117812934644727809</td>\n",
       "      <td>en</td>\n",
       "      <td>My confidence in the government under Trump an...</td>\n",
       "      <td>louisiana2times</td>\n",
       "      <td>My confidence in the government under Trump an...</td>\n",
       "      <td>-0.3473</td>\n",
       "      <td>0.205</td>\n",
       "      <td>0.678</td>\n",
       "      <td>0.118</td>\n",
       "      <td>-1</td>\n",
       "    </tr>\n",
       "    <tr>\n",
       "      <th>2</th>\n",
       "      <td>882</td>\n",
       "      <td>5cb4a408f970c156282d4780</td>\n",
       "      <td>2019-04-15 15:32:26</td>\n",
       "      <td>3334</td>\n",
       "      <td>[]</td>\n",
       "      <td>1117812935093624834</td>\n",
       "      <td>en</td>\n",
       "      <td>RT @nathanTbernard: Trump and @benshapiro cont...</td>\n",
       "      <td>RicanInBoston2</td>\n",
       "      <td>RT @nathanTbernard: Trump and @benshapiro cont...</td>\n",
       "      <td>0.1027</td>\n",
       "      <td>0.191</td>\n",
       "      <td>0.604</td>\n",
       "      <td>0.205</td>\n",
       "      <td>0</td>\n",
       "    </tr>\n",
       "    <tr>\n",
       "      <th>3</th>\n",
       "      <td>883</td>\n",
       "      <td>5cb4a408f970c156282d4782</td>\n",
       "      <td>2019-04-15 15:32:26</td>\n",
       "      <td>12006</td>\n",
       "      <td>[]</td>\n",
       "      <td>1117812935252955136</td>\n",
       "      <td>en</td>\n",
       "      <td>RT @RISINGforum: Still warm off the press: wha...</td>\n",
       "      <td>CSS_Zurich</td>\n",
       "      <td>RT @RISINGforum: Still warm off the press: wha...</td>\n",
       "      <td>0.2263</td>\n",
       "      <td>0.000</td>\n",
       "      <td>0.913</td>\n",
       "      <td>0.087</td>\n",
       "      <td>1</td>\n",
       "    </tr>\n",
       "    <tr>\n",
       "      <th>4</th>\n",
       "      <td>884</td>\n",
       "      <td>5cb4a408f970c156282d4784</td>\n",
       "      <td>2019-04-15 15:32:26</td>\n",
       "      <td>244</td>\n",
       "      <td>[]</td>\n",
       "      <td>1117812935441756164</td>\n",
       "      <td>en</td>\n",
       "      <td>RT @Mimirocah1: Reminder from Stone indictment...</td>\n",
       "      <td>ishkabibble54</td>\n",
       "      <td>RT @Mimirocah1: Reminder from Stone indictment...</td>\n",
       "      <td>-0.4939</td>\n",
       "      <td>0.144</td>\n",
       "      <td>0.856</td>\n",
       "      <td>0.000</td>\n",
       "      <td>-1</td>\n",
       "    </tr>\n",
       "  </tbody>\n",
       "</table>\n",
       "</div>"
      ],
      "text/plain": [
       "   New_ID                       _id             created  followers hashtags  \\\n",
       "0     880  5cb4a408f970c156282d477c 2019-04-15 15:32:26        241       []   \n",
       "1     881  5cb4a408f970c156282d477e 2019-04-15 15:32:26         56       []   \n",
       "2     882  5cb4a408f970c156282d4780 2019-04-15 15:32:26       3334       []   \n",
       "3     883  5cb4a408f970c156282d4782 2019-04-15 15:32:26      12006       []   \n",
       "4     884  5cb4a408f970c156282d4784 2019-04-15 15:32:26        244       []   \n",
       "\n",
       "                    id language  \\\n",
       "0  1117812934846091264       es   \n",
       "1  1117812934644727809       en   \n",
       "2  1117812935093624834       en   \n",
       "3  1117812935252955136       en   \n",
       "4  1117812935441756164       en   \n",
       "\n",
       "                                                text         username  \\\n",
       "0  RT @EmmaZeinep: Mippcivzla: RT SMoncada_VEN: ¿...       AliCrack25   \n",
       "1  My confidence in the government under Trump an...  louisiana2times   \n",
       "2  RT @nathanTbernard: Trump and @benshapiro cont...   RicanInBoston2   \n",
       "3  RT @RISINGforum: Still warm off the press: wha...       CSS_Zurich   \n",
       "4  RT @Mimirocah1: Reminder from Stone indictment...    ishkabibble54   \n",
       "\n",
       "                                         description  compound    neg    neu  \\\n",
       "0  RT @EmmaZeinep: Mippcivzla: RT SMoncada_VEN: ¿...    0.0000  0.000  1.000   \n",
       "1  My confidence in the government under Trump an...   -0.3473  0.205  0.678   \n",
       "2  RT @nathanTbernard: Trump and @benshapiro cont...    0.1027  0.191  0.604   \n",
       "3  RT @RISINGforum: Still warm off the press: wha...    0.2263  0.000  0.913   \n",
       "4  RT @Mimirocah1: Reminder from Stone indictment...   -0.4939  0.144  0.856   \n",
       "\n",
       "     pos  label  \n",
       "0  0.000      0  \n",
       "1  0.118     -1  \n",
       "2  0.205      0  \n",
       "3  0.087      1  \n",
       "4  0.000     -1  "
      ]
     },
     "execution_count": 12,
     "metadata": {},
     "output_type": "execute_result"
    }
   ],
   "source": [
    "df2.head()"
   ]
  },
  {
   "cell_type": "code",
   "execution_count": 13,
   "metadata": {},
   "outputs": [],
   "source": [
    "df2_clean = df2.drop(['description','New_ID','id'],axis=1)"
   ]
  },
  {
   "cell_type": "code",
   "execution_count": 14,
   "metadata": {},
   "outputs": [
    {
     "data": {
      "text/html": [
       "<div>\n",
       "<style scoped>\n",
       "    .dataframe tbody tr th:only-of-type {\n",
       "        vertical-align: middle;\n",
       "    }\n",
       "\n",
       "    .dataframe tbody tr th {\n",
       "        vertical-align: top;\n",
       "    }\n",
       "\n",
       "    .dataframe thead th {\n",
       "        text-align: right;\n",
       "    }\n",
       "</style>\n",
       "<table border=\"1\" class=\"dataframe\">\n",
       "  <thead>\n",
       "    <tr style=\"text-align: right;\">\n",
       "      <th></th>\n",
       "      <th>_id</th>\n",
       "      <th>created</th>\n",
       "      <th>followers</th>\n",
       "      <th>hashtags</th>\n",
       "      <th>language</th>\n",
       "      <th>text</th>\n",
       "      <th>username</th>\n",
       "      <th>compound</th>\n",
       "      <th>neg</th>\n",
       "      <th>neu</th>\n",
       "      <th>pos</th>\n",
       "      <th>label</th>\n",
       "    </tr>\n",
       "  </thead>\n",
       "  <tbody>\n",
       "    <tr>\n",
       "      <th>0</th>\n",
       "      <td>5cb4a408f970c156282d477c</td>\n",
       "      <td>2019-04-15 15:32:26</td>\n",
       "      <td>241</td>\n",
       "      <td>[]</td>\n",
       "      <td>es</td>\n",
       "      <td>RT @EmmaZeinep: Mippcivzla: RT SMoncada_VEN: ¿...</td>\n",
       "      <td>AliCrack25</td>\n",
       "      <td>0.0000</td>\n",
       "      <td>0.000</td>\n",
       "      <td>1.000</td>\n",
       "      <td>0.000</td>\n",
       "      <td>0</td>\n",
       "    </tr>\n",
       "    <tr>\n",
       "      <th>1</th>\n",
       "      <td>5cb4a408f970c156282d477e</td>\n",
       "      <td>2019-04-15 15:32:26</td>\n",
       "      <td>56</td>\n",
       "      <td>[]</td>\n",
       "      <td>en</td>\n",
       "      <td>My confidence in the government under Trump an...</td>\n",
       "      <td>louisiana2times</td>\n",
       "      <td>-0.3473</td>\n",
       "      <td>0.205</td>\n",
       "      <td>0.678</td>\n",
       "      <td>0.118</td>\n",
       "      <td>-1</td>\n",
       "    </tr>\n",
       "    <tr>\n",
       "      <th>2</th>\n",
       "      <td>5cb4a408f970c156282d4780</td>\n",
       "      <td>2019-04-15 15:32:26</td>\n",
       "      <td>3334</td>\n",
       "      <td>[]</td>\n",
       "      <td>en</td>\n",
       "      <td>RT @nathanTbernard: Trump and @benshapiro cont...</td>\n",
       "      <td>RicanInBoston2</td>\n",
       "      <td>0.1027</td>\n",
       "      <td>0.191</td>\n",
       "      <td>0.604</td>\n",
       "      <td>0.205</td>\n",
       "      <td>0</td>\n",
       "    </tr>\n",
       "    <tr>\n",
       "      <th>3</th>\n",
       "      <td>5cb4a408f970c156282d4782</td>\n",
       "      <td>2019-04-15 15:32:26</td>\n",
       "      <td>12006</td>\n",
       "      <td>[]</td>\n",
       "      <td>en</td>\n",
       "      <td>RT @RISINGforum: Still warm off the press: wha...</td>\n",
       "      <td>CSS_Zurich</td>\n",
       "      <td>0.2263</td>\n",
       "      <td>0.000</td>\n",
       "      <td>0.913</td>\n",
       "      <td>0.087</td>\n",
       "      <td>1</td>\n",
       "    </tr>\n",
       "    <tr>\n",
       "      <th>4</th>\n",
       "      <td>5cb4a408f970c156282d4784</td>\n",
       "      <td>2019-04-15 15:32:26</td>\n",
       "      <td>244</td>\n",
       "      <td>[]</td>\n",
       "      <td>en</td>\n",
       "      <td>RT @Mimirocah1: Reminder from Stone indictment...</td>\n",
       "      <td>ishkabibble54</td>\n",
       "      <td>-0.4939</td>\n",
       "      <td>0.144</td>\n",
       "      <td>0.856</td>\n",
       "      <td>0.000</td>\n",
       "      <td>-1</td>\n",
       "    </tr>\n",
       "  </tbody>\n",
       "</table>\n",
       "</div>"
      ],
      "text/plain": [
       "                        _id             created  followers hashtags language  \\\n",
       "0  5cb4a408f970c156282d477c 2019-04-15 15:32:26        241       []       es   \n",
       "1  5cb4a408f970c156282d477e 2019-04-15 15:32:26         56       []       en   \n",
       "2  5cb4a408f970c156282d4780 2019-04-15 15:32:26       3334       []       en   \n",
       "3  5cb4a408f970c156282d4782 2019-04-15 15:32:26      12006       []       en   \n",
       "4  5cb4a408f970c156282d4784 2019-04-15 15:32:26        244       []       en   \n",
       "\n",
       "                                                text         username  \\\n",
       "0  RT @EmmaZeinep: Mippcivzla: RT SMoncada_VEN: ¿...       AliCrack25   \n",
       "1  My confidence in the government under Trump an...  louisiana2times   \n",
       "2  RT @nathanTbernard: Trump and @benshapiro cont...   RicanInBoston2   \n",
       "3  RT @RISINGforum: Still warm off the press: wha...       CSS_Zurich   \n",
       "4  RT @Mimirocah1: Reminder from Stone indictment...    ishkabibble54   \n",
       "\n",
       "   compound    neg    neu    pos  label  \n",
       "0    0.0000  0.000  1.000  0.000      0  \n",
       "1   -0.3473  0.205  0.678  0.118     -1  \n",
       "2    0.1027  0.191  0.604  0.205      0  \n",
       "3    0.2263  0.000  0.913  0.087      1  \n",
       "4   -0.4939  0.144  0.856  0.000     -1  "
      ]
     },
     "execution_count": 14,
     "metadata": {},
     "output_type": "execute_result"
    }
   ],
   "source": [
    "df2_clean.head()"
   ]
  },
  {
   "cell_type": "markdown",
   "metadata": {},
   "source": [
    "Using a nice little chunck of code, making use of the dictionary python data structure and regular expression, we can label the tweets based on the contents, searching for leaders names and appending a dummy variable to label each tweet."
   ]
  },
  {
   "cell_type": "code",
   "execution_count": 15,
   "metadata": {},
   "outputs": [],
   "source": [
    "topics = {\"Trump\": [\"Trump\",'trump'],\n",
    "          \"Xi_Jinping\": [\"Xi Jinping\",'xi jinping'],\n",
    "          \"Maduro\": [\"Maduro\",'maduro'],\n",
    "          \"Kim_Jong_Un\": ['Kim Jong Un','kim jong un'],\n",
    "         \"Elizabeth_Warren\":['Elizabeth Warren',\"Warren\",'elizabeth warren'],\n",
    "         \"Theresa_May\": [\"Theresa May\",\"May\"]} \n",
    "\n",
    "for k,v in topics.items():\n",
    "    df2_clean[k] = df2_clean.text.str.contains('|'.join(v), \n",
    "                                               case=False, regex=True).astype(int)"
   ]
  },
  {
   "cell_type": "code",
   "execution_count": 16,
   "metadata": {},
   "outputs": [
    {
     "data": {
      "text/html": [
       "<div>\n",
       "<style scoped>\n",
       "    .dataframe tbody tr th:only-of-type {\n",
       "        vertical-align: middle;\n",
       "    }\n",
       "\n",
       "    .dataframe tbody tr th {\n",
       "        vertical-align: top;\n",
       "    }\n",
       "\n",
       "    .dataframe thead th {\n",
       "        text-align: right;\n",
       "    }\n",
       "</style>\n",
       "<table border=\"1\" class=\"dataframe\">\n",
       "  <thead>\n",
       "    <tr style=\"text-align: right;\">\n",
       "      <th></th>\n",
       "      <th>_id</th>\n",
       "      <th>created</th>\n",
       "      <th>followers</th>\n",
       "      <th>hashtags</th>\n",
       "      <th>language</th>\n",
       "      <th>text</th>\n",
       "      <th>username</th>\n",
       "      <th>compound</th>\n",
       "      <th>neg</th>\n",
       "      <th>neu</th>\n",
       "      <th>pos</th>\n",
       "      <th>label</th>\n",
       "      <th>Trump</th>\n",
       "      <th>Xi_Jinping</th>\n",
       "      <th>Maduro</th>\n",
       "      <th>Kim_Jong_Un</th>\n",
       "      <th>Elizabeth_Warren</th>\n",
       "      <th>Theresa_May</th>\n",
       "    </tr>\n",
       "  </thead>\n",
       "  <tbody>\n",
       "    <tr>\n",
       "      <th>0</th>\n",
       "      <td>5cb4a408f970c156282d477c</td>\n",
       "      <td>2019-04-15 15:32:26</td>\n",
       "      <td>241</td>\n",
       "      <td>[]</td>\n",
       "      <td>es</td>\n",
       "      <td>RT @EmmaZeinep: Mippcivzla: RT SMoncada_VEN: ¿...</td>\n",
       "      <td>AliCrack25</td>\n",
       "      <td>0.0000</td>\n",
       "      <td>0.000</td>\n",
       "      <td>1.000</td>\n",
       "      <td>0.000</td>\n",
       "      <td>0</td>\n",
       "      <td>0</td>\n",
       "      <td>0</td>\n",
       "      <td>0</td>\n",
       "      <td>0</td>\n",
       "      <td>0</td>\n",
       "      <td>0</td>\n",
       "    </tr>\n",
       "    <tr>\n",
       "      <th>1</th>\n",
       "      <td>5cb4a408f970c156282d477e</td>\n",
       "      <td>2019-04-15 15:32:26</td>\n",
       "      <td>56</td>\n",
       "      <td>[]</td>\n",
       "      <td>en</td>\n",
       "      <td>My confidence in the government under Trump an...</td>\n",
       "      <td>louisiana2times</td>\n",
       "      <td>-0.3473</td>\n",
       "      <td>0.205</td>\n",
       "      <td>0.678</td>\n",
       "      <td>0.118</td>\n",
       "      <td>-1</td>\n",
       "      <td>1</td>\n",
       "      <td>0</td>\n",
       "      <td>0</td>\n",
       "      <td>0</td>\n",
       "      <td>0</td>\n",
       "      <td>0</td>\n",
       "    </tr>\n",
       "    <tr>\n",
       "      <th>2</th>\n",
       "      <td>5cb4a408f970c156282d4780</td>\n",
       "      <td>2019-04-15 15:32:26</td>\n",
       "      <td>3334</td>\n",
       "      <td>[]</td>\n",
       "      <td>en</td>\n",
       "      <td>RT @nathanTbernard: Trump and @benshapiro cont...</td>\n",
       "      <td>RicanInBoston2</td>\n",
       "      <td>0.1027</td>\n",
       "      <td>0.191</td>\n",
       "      <td>0.604</td>\n",
       "      <td>0.205</td>\n",
       "      <td>0</td>\n",
       "      <td>1</td>\n",
       "      <td>0</td>\n",
       "      <td>0</td>\n",
       "      <td>0</td>\n",
       "      <td>0</td>\n",
       "      <td>1</td>\n",
       "    </tr>\n",
       "    <tr>\n",
       "      <th>3</th>\n",
       "      <td>5cb4a408f970c156282d4782</td>\n",
       "      <td>2019-04-15 15:32:26</td>\n",
       "      <td>12006</td>\n",
       "      <td>[]</td>\n",
       "      <td>en</td>\n",
       "      <td>RT @RISINGforum: Still warm off the press: wha...</td>\n",
       "      <td>CSS_Zurich</td>\n",
       "      <td>0.2263</td>\n",
       "      <td>0.000</td>\n",
       "      <td>0.913</td>\n",
       "      <td>0.087</td>\n",
       "      <td>1</td>\n",
       "      <td>1</td>\n",
       "      <td>0</td>\n",
       "      <td>0</td>\n",
       "      <td>0</td>\n",
       "      <td>0</td>\n",
       "      <td>0</td>\n",
       "    </tr>\n",
       "    <tr>\n",
       "      <th>4</th>\n",
       "      <td>5cb4a408f970c156282d4784</td>\n",
       "      <td>2019-04-15 15:32:26</td>\n",
       "      <td>244</td>\n",
       "      <td>[]</td>\n",
       "      <td>en</td>\n",
       "      <td>RT @Mimirocah1: Reminder from Stone indictment...</td>\n",
       "      <td>ishkabibble54</td>\n",
       "      <td>-0.4939</td>\n",
       "      <td>0.144</td>\n",
       "      <td>0.856</td>\n",
       "      <td>0.000</td>\n",
       "      <td>-1</td>\n",
       "      <td>1</td>\n",
       "      <td>0</td>\n",
       "      <td>0</td>\n",
       "      <td>0</td>\n",
       "      <td>0</td>\n",
       "      <td>0</td>\n",
       "    </tr>\n",
       "  </tbody>\n",
       "</table>\n",
       "</div>"
      ],
      "text/plain": [
       "                        _id             created  followers hashtags language  \\\n",
       "0  5cb4a408f970c156282d477c 2019-04-15 15:32:26        241       []       es   \n",
       "1  5cb4a408f970c156282d477e 2019-04-15 15:32:26         56       []       en   \n",
       "2  5cb4a408f970c156282d4780 2019-04-15 15:32:26       3334       []       en   \n",
       "3  5cb4a408f970c156282d4782 2019-04-15 15:32:26      12006       []       en   \n",
       "4  5cb4a408f970c156282d4784 2019-04-15 15:32:26        244       []       en   \n",
       "\n",
       "                                                text         username  \\\n",
       "0  RT @EmmaZeinep: Mippcivzla: RT SMoncada_VEN: ¿...       AliCrack25   \n",
       "1  My confidence in the government under Trump an...  louisiana2times   \n",
       "2  RT @nathanTbernard: Trump and @benshapiro cont...   RicanInBoston2   \n",
       "3  RT @RISINGforum: Still warm off the press: wha...       CSS_Zurich   \n",
       "4  RT @Mimirocah1: Reminder from Stone indictment...    ishkabibble54   \n",
       "\n",
       "   compound    neg    neu    pos  label  Trump  Xi_Jinping  Maduro  \\\n",
       "0    0.0000  0.000  1.000  0.000      0      0           0       0   \n",
       "1   -0.3473  0.205  0.678  0.118     -1      1           0       0   \n",
       "2    0.1027  0.191  0.604  0.205      0      1           0       0   \n",
       "3    0.2263  0.000  0.913  0.087      1      1           0       0   \n",
       "4   -0.4939  0.144  0.856  0.000     -1      1           0       0   \n",
       "\n",
       "   Kim_Jong_Un  Elizabeth_Warren  Theresa_May  \n",
       "0            0                 0            0  \n",
       "1            0                 0            0  \n",
       "2            0                 0            1  \n",
       "3            0                 0            0  \n",
       "4            0                 0            0  "
      ]
     },
     "execution_count": 16,
     "metadata": {},
     "output_type": "execute_result"
    }
   ],
   "source": [
    "df2_clean.head()"
   ]
  },
  {
   "cell_type": "code",
   "execution_count": 17,
   "metadata": {},
   "outputs": [
    {
     "data": {
      "text/plain": [
       "17910"
      ]
     },
     "execution_count": 17,
     "metadata": {},
     "output_type": "execute_result"
    }
   ],
   "source": [
    "sum(df2_clean.Trump)"
   ]
  },
  {
   "cell_type": "code",
   "execution_count": 18,
   "metadata": {},
   "outputs": [
    {
     "data": {
      "text/plain": [
       "331"
      ]
     },
     "execution_count": 18,
     "metadata": {},
     "output_type": "execute_result"
    }
   ],
   "source": [
    "sum(df2_clean.Elizabeth_Warren)"
   ]
  },
  {
   "cell_type": "code",
   "execution_count": 19,
   "metadata": {},
   "outputs": [
    {
     "data": {
      "text/plain": [
       "1356"
      ]
     },
     "execution_count": 19,
     "metadata": {},
     "output_type": "execute_result"
    }
   ],
   "source": [
    "sum(df2_clean.Maduro)"
   ]
  },
  {
   "cell_type": "code",
   "execution_count": 20,
   "metadata": {},
   "outputs": [
    {
     "data": {
      "text/plain": [
       "500"
      ]
     },
     "execution_count": 20,
     "metadata": {},
     "output_type": "execute_result"
    }
   ],
   "source": [
    "sum(df2_clean.Theresa_May)"
   ]
  },
  {
   "cell_type": "code",
   "execution_count": 23,
   "metadata": {},
   "outputs": [
    {
     "data": {
      "text/plain": [
       "28"
      ]
     },
     "execution_count": 23,
     "metadata": {},
     "output_type": "execute_result"
    }
   ],
   "source": [
    "sum(df2_clean.Kim_Jong_Un)"
   ]
  },
  {
   "cell_type": "code",
   "execution_count": 24,
   "metadata": {},
   "outputs": [
    {
     "data": {
      "text/plain": [
       "6"
      ]
     },
     "execution_count": 24,
     "metadata": {},
     "output_type": "execute_result"
    }
   ],
   "source": [
    "sum(df2_clean.Xi_Jinping)"
   ]
  },
  {
   "cell_type": "markdown",
   "metadata": {},
   "source": [
    "As we can see, Trump tweets dominated the stream while tweets about the chinese leader Xi Jinping didn't have too mnay tweets about him. We can now group the tweets together by leader and view the sentiment scores."
   ]
  },
  {
   "cell_type": "code",
   "execution_count": 30,
   "metadata": {},
   "outputs": [],
   "source": [
    "trump=df2_clean.loc[df2_clean.Trump == 1]"
   ]
  },
  {
   "cell_type": "code",
   "execution_count": 31,
   "metadata": {},
   "outputs": [],
   "source": [
    "warren=df2_clean.loc[df2_clean.Elizabeth_Warren == 1]"
   ]
  },
  {
   "cell_type": "code",
   "execution_count": 32,
   "metadata": {},
   "outputs": [],
   "source": [
    "maduro=df2_clean.loc[df2_clean.Maduro == 1]"
   ]
  },
  {
   "cell_type": "code",
   "execution_count": 33,
   "metadata": {},
   "outputs": [],
   "source": [
    "may=df2_clean.loc[df2_clean.Theresa_May == 1]"
   ]
  },
  {
   "cell_type": "code",
   "execution_count": 54,
   "metadata": {},
   "outputs": [
    {
     "data": {
      "text/html": [
       "<div>\n",
       "<style scoped>\n",
       "    .dataframe tbody tr th:only-of-type {\n",
       "        vertical-align: middle;\n",
       "    }\n",
       "\n",
       "    .dataframe tbody tr th {\n",
       "        vertical-align: top;\n",
       "    }\n",
       "\n",
       "    .dataframe thead th {\n",
       "        text-align: right;\n",
       "    }\n",
       "</style>\n",
       "<table border=\"1\" class=\"dataframe\">\n",
       "  <thead>\n",
       "    <tr style=\"text-align: right;\">\n",
       "      <th></th>\n",
       "      <th>compound</th>\n",
       "      <th>neg</th>\n",
       "      <th>neu</th>\n",
       "      <th>pos</th>\n",
       "    </tr>\n",
       "  </thead>\n",
       "  <tbody>\n",
       "    <tr>\n",
       "      <th>count</th>\n",
       "      <td>17910.000000</td>\n",
       "      <td>17910.000000</td>\n",
       "      <td>17910.000000</td>\n",
       "      <td>17910.000000</td>\n",
       "    </tr>\n",
       "    <tr>\n",
       "      <th>mean</th>\n",
       "      <td>-0.066966</td>\n",
       "      <td>0.087417</td>\n",
       "      <td>0.849002</td>\n",
       "      <td>0.063596</td>\n",
       "    </tr>\n",
       "    <tr>\n",
       "      <th>std</th>\n",
       "      <td>0.423968</td>\n",
       "      <td>0.121202</td>\n",
       "      <td>0.148157</td>\n",
       "      <td>0.101547</td>\n",
       "    </tr>\n",
       "    <tr>\n",
       "      <th>min</th>\n",
       "      <td>-0.968900</td>\n",
       "      <td>0.000000</td>\n",
       "      <td>0.196000</td>\n",
       "      <td>0.000000</td>\n",
       "    </tr>\n",
       "    <tr>\n",
       "      <th>25%</th>\n",
       "      <td>-0.361200</td>\n",
       "      <td>0.000000</td>\n",
       "      <td>0.748000</td>\n",
       "      <td>0.000000</td>\n",
       "    </tr>\n",
       "    <tr>\n",
       "      <th>50%</th>\n",
       "      <td>0.000000</td>\n",
       "      <td>0.000000</td>\n",
       "      <td>0.870000</td>\n",
       "      <td>0.000000</td>\n",
       "    </tr>\n",
       "    <tr>\n",
       "      <th>75%</th>\n",
       "      <td>0.077200</td>\n",
       "      <td>0.134000</td>\n",
       "      <td>1.000000</td>\n",
       "      <td>0.120000</td>\n",
       "    </tr>\n",
       "    <tr>\n",
       "      <th>max</th>\n",
       "      <td>0.977300</td>\n",
       "      <td>0.737000</td>\n",
       "      <td>1.000000</td>\n",
       "      <td>0.804000</td>\n",
       "    </tr>\n",
       "  </tbody>\n",
       "</table>\n",
       "</div>"
      ],
      "text/plain": [
       "           compound           neg           neu           pos\n",
       "count  17910.000000  17910.000000  17910.000000  17910.000000\n",
       "mean      -0.066966      0.087417      0.849002      0.063596\n",
       "std        0.423968      0.121202      0.148157      0.101547\n",
       "min       -0.968900      0.000000      0.196000      0.000000\n",
       "25%       -0.361200      0.000000      0.748000      0.000000\n",
       "50%        0.000000      0.000000      0.870000      0.000000\n",
       "75%        0.077200      0.134000      1.000000      0.120000\n",
       "max        0.977300      0.737000      1.000000      0.804000"
      ]
     },
     "execution_count": 54,
     "metadata": {},
     "output_type": "execute_result"
    }
   ],
   "source": [
    "trump[['compound','neg','neu','pos']].describe()"
   ]
  },
  {
   "cell_type": "code",
   "execution_count": 55,
   "metadata": {},
   "outputs": [
    {
     "data": {
      "text/html": [
       "<div>\n",
       "<style scoped>\n",
       "    .dataframe tbody tr th:only-of-type {\n",
       "        vertical-align: middle;\n",
       "    }\n",
       "\n",
       "    .dataframe tbody tr th {\n",
       "        vertical-align: top;\n",
       "    }\n",
       "\n",
       "    .dataframe thead th {\n",
       "        text-align: right;\n",
       "    }\n",
       "</style>\n",
       "<table border=\"1\" class=\"dataframe\">\n",
       "  <thead>\n",
       "    <tr style=\"text-align: right;\">\n",
       "      <th></th>\n",
       "      <th>compound</th>\n",
       "      <th>neg</th>\n",
       "      <th>neu</th>\n",
       "      <th>pos</th>\n",
       "    </tr>\n",
       "  </thead>\n",
       "  <tbody>\n",
       "    <tr>\n",
       "      <th>count</th>\n",
       "      <td>331.000000</td>\n",
       "      <td>331.000000</td>\n",
       "      <td>331.000000</td>\n",
       "      <td>331.000000</td>\n",
       "    </tr>\n",
       "    <tr>\n",
       "      <th>mean</th>\n",
       "      <td>0.142885</td>\n",
       "      <td>0.035172</td>\n",
       "      <td>0.878634</td>\n",
       "      <td>0.086160</td>\n",
       "    </tr>\n",
       "    <tr>\n",
       "      <th>std</th>\n",
       "      <td>0.332276</td>\n",
       "      <td>0.070001</td>\n",
       "      <td>0.111375</td>\n",
       "      <td>0.097116</td>\n",
       "    </tr>\n",
       "    <tr>\n",
       "      <th>min</th>\n",
       "      <td>-0.862500</td>\n",
       "      <td>0.000000</td>\n",
       "      <td>0.448000</td>\n",
       "      <td>0.000000</td>\n",
       "    </tr>\n",
       "    <tr>\n",
       "      <th>25%</th>\n",
       "      <td>0.000000</td>\n",
       "      <td>0.000000</td>\n",
       "      <td>0.804000</td>\n",
       "      <td>0.000000</td>\n",
       "    </tr>\n",
       "    <tr>\n",
       "      <th>50%</th>\n",
       "      <td>0.000000</td>\n",
       "      <td>0.000000</td>\n",
       "      <td>0.895000</td>\n",
       "      <td>0.098000</td>\n",
       "    </tr>\n",
       "    <tr>\n",
       "      <th>75%</th>\n",
       "      <td>0.401900</td>\n",
       "      <td>0.070000</td>\n",
       "      <td>1.000000</td>\n",
       "      <td>0.106000</td>\n",
       "    </tr>\n",
       "    <tr>\n",
       "      <th>max</th>\n",
       "      <td>0.855500</td>\n",
       "      <td>0.508000</td>\n",
       "      <td>1.000000</td>\n",
       "      <td>0.552000</td>\n",
       "    </tr>\n",
       "  </tbody>\n",
       "</table>\n",
       "</div>"
      ],
      "text/plain": [
       "         compound         neg         neu         pos\n",
       "count  331.000000  331.000000  331.000000  331.000000\n",
       "mean     0.142885    0.035172    0.878634    0.086160\n",
       "std      0.332276    0.070001    0.111375    0.097116\n",
       "min     -0.862500    0.000000    0.448000    0.000000\n",
       "25%      0.000000    0.000000    0.804000    0.000000\n",
       "50%      0.000000    0.000000    0.895000    0.098000\n",
       "75%      0.401900    0.070000    1.000000    0.106000\n",
       "max      0.855500    0.508000    1.000000    0.552000"
      ]
     },
     "execution_count": 55,
     "metadata": {},
     "output_type": "execute_result"
    }
   ],
   "source": [
    "warren[['compound','neg','neu','pos']].describe()"
   ]
  },
  {
   "cell_type": "code",
   "execution_count": 56,
   "metadata": {},
   "outputs": [
    {
     "data": {
      "text/html": [
       "<div>\n",
       "<style scoped>\n",
       "    .dataframe tbody tr th:only-of-type {\n",
       "        vertical-align: middle;\n",
       "    }\n",
       "\n",
       "    .dataframe tbody tr th {\n",
       "        vertical-align: top;\n",
       "    }\n",
       "\n",
       "    .dataframe thead th {\n",
       "        text-align: right;\n",
       "    }\n",
       "</style>\n",
       "<table border=\"1\" class=\"dataframe\">\n",
       "  <thead>\n",
       "    <tr style=\"text-align: right;\">\n",
       "      <th></th>\n",
       "      <th>compound</th>\n",
       "      <th>neg</th>\n",
       "      <th>neu</th>\n",
       "      <th>pos</th>\n",
       "    </tr>\n",
       "  </thead>\n",
       "  <tbody>\n",
       "    <tr>\n",
       "      <th>count</th>\n",
       "      <td>1356.000000</td>\n",
       "      <td>1356.000000</td>\n",
       "      <td>1356.000000</td>\n",
       "      <td>1356.000000</td>\n",
       "    </tr>\n",
       "    <tr>\n",
       "      <th>mean</th>\n",
       "      <td>-0.047766</td>\n",
       "      <td>0.030037</td>\n",
       "      <td>0.956493</td>\n",
       "      <td>0.013470</td>\n",
       "    </tr>\n",
       "    <tr>\n",
       "      <th>std</th>\n",
       "      <td>0.205158</td>\n",
       "      <td>0.062217</td>\n",
       "      <td>0.082494</td>\n",
       "      <td>0.044688</td>\n",
       "    </tr>\n",
       "    <tr>\n",
       "      <th>min</th>\n",
       "      <td>-0.886000</td>\n",
       "      <td>0.000000</td>\n",
       "      <td>0.400000</td>\n",
       "      <td>0.000000</td>\n",
       "    </tr>\n",
       "    <tr>\n",
       "      <th>25%</th>\n",
       "      <td>0.000000</td>\n",
       "      <td>0.000000</td>\n",
       "      <td>0.903000</td>\n",
       "      <td>0.000000</td>\n",
       "    </tr>\n",
       "    <tr>\n",
       "      <th>50%</th>\n",
       "      <td>0.000000</td>\n",
       "      <td>0.000000</td>\n",
       "      <td>1.000000</td>\n",
       "      <td>0.000000</td>\n",
       "    </tr>\n",
       "    <tr>\n",
       "      <th>75%</th>\n",
       "      <td>0.000000</td>\n",
       "      <td>0.000000</td>\n",
       "      <td>1.000000</td>\n",
       "      <td>0.000000</td>\n",
       "    </tr>\n",
       "    <tr>\n",
       "      <th>max</th>\n",
       "      <td>0.815600</td>\n",
       "      <td>0.391000</td>\n",
       "      <td>1.000000</td>\n",
       "      <td>0.458000</td>\n",
       "    </tr>\n",
       "  </tbody>\n",
       "</table>\n",
       "</div>"
      ],
      "text/plain": [
       "          compound          neg          neu          pos\n",
       "count  1356.000000  1356.000000  1356.000000  1356.000000\n",
       "mean     -0.047766     0.030037     0.956493     0.013470\n",
       "std       0.205158     0.062217     0.082494     0.044688\n",
       "min      -0.886000     0.000000     0.400000     0.000000\n",
       "25%       0.000000     0.000000     0.903000     0.000000\n",
       "50%       0.000000     0.000000     1.000000     0.000000\n",
       "75%       0.000000     0.000000     1.000000     0.000000\n",
       "max       0.815600     0.391000     1.000000     0.458000"
      ]
     },
     "execution_count": 56,
     "metadata": {},
     "output_type": "execute_result"
    }
   ],
   "source": [
    "maduro[['compound','neg','neu','pos']].describe()"
   ]
  },
  {
   "cell_type": "code",
   "execution_count": 57,
   "metadata": {},
   "outputs": [
    {
     "data": {
      "text/html": [
       "<div>\n",
       "<style scoped>\n",
       "    .dataframe tbody tr th:only-of-type {\n",
       "        vertical-align: middle;\n",
       "    }\n",
       "\n",
       "    .dataframe tbody tr th {\n",
       "        vertical-align: top;\n",
       "    }\n",
       "\n",
       "    .dataframe thead th {\n",
       "        text-align: right;\n",
       "    }\n",
       "</style>\n",
       "<table border=\"1\" class=\"dataframe\">\n",
       "  <thead>\n",
       "    <tr style=\"text-align: right;\">\n",
       "      <th></th>\n",
       "      <th>compound</th>\n",
       "      <th>neg</th>\n",
       "      <th>neu</th>\n",
       "      <th>pos</th>\n",
       "    </tr>\n",
       "  </thead>\n",
       "  <tbody>\n",
       "    <tr>\n",
       "      <th>count</th>\n",
       "      <td>500.000000</td>\n",
       "      <td>500.000000</td>\n",
       "      <td>500.000000</td>\n",
       "      <td>500.000000</td>\n",
       "    </tr>\n",
       "    <tr>\n",
       "      <th>mean</th>\n",
       "      <td>-0.016461</td>\n",
       "      <td>0.074742</td>\n",
       "      <td>0.855818</td>\n",
       "      <td>0.069456</td>\n",
       "    </tr>\n",
       "    <tr>\n",
       "      <th>std</th>\n",
       "      <td>0.409589</td>\n",
       "      <td>0.099836</td>\n",
       "      <td>0.138639</td>\n",
       "      <td>0.099405</td>\n",
       "    </tr>\n",
       "    <tr>\n",
       "      <th>min</th>\n",
       "      <td>-0.888600</td>\n",
       "      <td>0.000000</td>\n",
       "      <td>0.445000</td>\n",
       "      <td>0.000000</td>\n",
       "    </tr>\n",
       "    <tr>\n",
       "      <th>25%</th>\n",
       "      <td>-0.273200</td>\n",
       "      <td>0.000000</td>\n",
       "      <td>0.758000</td>\n",
       "      <td>0.000000</td>\n",
       "    </tr>\n",
       "    <tr>\n",
       "      <th>50%</th>\n",
       "      <td>0.000000</td>\n",
       "      <td>0.000000</td>\n",
       "      <td>0.880500</td>\n",
       "      <td>0.000000</td>\n",
       "    </tr>\n",
       "    <tr>\n",
       "      <th>75%</th>\n",
       "      <td>0.316400</td>\n",
       "      <td>0.141000</td>\n",
       "      <td>1.000000</td>\n",
       "      <td>0.119250</td>\n",
       "    </tr>\n",
       "    <tr>\n",
       "      <th>max</th>\n",
       "      <td>0.885600</td>\n",
       "      <td>0.421000</td>\n",
       "      <td>1.000000</td>\n",
       "      <td>0.493000</td>\n",
       "    </tr>\n",
       "  </tbody>\n",
       "</table>\n",
       "</div>"
      ],
      "text/plain": [
       "         compound         neg         neu         pos\n",
       "count  500.000000  500.000000  500.000000  500.000000\n",
       "mean    -0.016461    0.074742    0.855818    0.069456\n",
       "std      0.409589    0.099836    0.138639    0.099405\n",
       "min     -0.888600    0.000000    0.445000    0.000000\n",
       "25%     -0.273200    0.000000    0.758000    0.000000\n",
       "50%      0.000000    0.000000    0.880500    0.000000\n",
       "75%      0.316400    0.141000    1.000000    0.119250\n",
       "max      0.885600    0.421000    1.000000    0.493000"
      ]
     },
     "execution_count": 57,
     "metadata": {},
     "output_type": "execute_result"
    }
   ],
   "source": [
    "may[['compound','neg','neu','pos']].describe()"
   ]
  },
  {
   "cell_type": "code",
   "execution_count": 58,
   "metadata": {},
   "outputs": [
    {
     "data": {
      "text/plain": [
       "-1968"
      ]
     },
     "execution_count": 58,
     "metadata": {},
     "output_type": "execute_result"
    }
   ],
   "source": [
    "trump['label'].sum()"
   ]
  },
  {
   "cell_type": "code",
   "execution_count": 59,
   "metadata": {},
   "outputs": [
    {
     "data": {
      "text/plain": [
       "-13"
      ]
     },
     "execution_count": 59,
     "metadata": {},
     "output_type": "execute_result"
    }
   ],
   "source": [
    "may['label'].sum()"
   ]
  },
  {
   "cell_type": "code",
   "execution_count": 61,
   "metadata": {},
   "outputs": [
    {
     "data": {
      "text/plain": [
       "-143"
      ]
     },
     "execution_count": 61,
     "metadata": {},
     "output_type": "execute_result"
    }
   ],
   "source": [
    "maduro['label'].sum()"
   ]
  },
  {
   "cell_type": "code",
   "execution_count": 63,
   "metadata": {},
   "outputs": [
    {
     "data": {
      "text/plain": [
       "113"
      ]
     },
     "execution_count": 63,
     "metadata": {},
     "output_type": "execute_result"
    }
   ],
   "source": [
    "warren['label'].sum()"
   ]
  },
  {
   "cell_type": "markdown",
   "metadata": {},
   "source": [
    "Looking at the summary statistics for the sentiment columns for each respective leader and also summing the label column, we can see which leaders are recieving positive, neutral, and negative sentiments around the world. While Trump and Maduro are getting largely negative reviews, we can see that Elizabeth Warrem, the deomcratic candidate for the elcetion in 2020 is getting largelu positive reviews. For grading purposes, I will include a .csv file as well."
   ]
  },
  {
   "cell_type": "code",
   "execution_count": 70,
   "metadata": {},
   "outputs": [],
   "source": [
    "#df2_clean.to_csv('hw2_file.csv',index=False)"
   ]
  }
 ],
 "metadata": {
  "kernelspec": {
   "display_name": "Python 3",
   "language": "python",
   "name": "python3"
  },
  "language_info": {
   "codemirror_mode": {
    "name": "ipython",
    "version": 3
   },
   "file_extension": ".py",
   "mimetype": "text/x-python",
   "name": "python",
   "nbconvert_exporter": "python",
   "pygments_lexer": "ipython3",
   "version": "3.6.7"
  }
 },
 "nbformat": 4,
 "nbformat_minor": 2
}
